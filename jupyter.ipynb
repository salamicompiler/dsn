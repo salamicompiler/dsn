{
 "metadata": {
  "language_info": {
   "codemirror_mode": {
    "name": "ipython",
    "version": 3
   },
   "file_extension": ".py",
   "mimetype": "text/x-python",
   "name": "python",
   "nbconvert_exporter": "python",
   "pygments_lexer": "ipython3",
   "version": "3.8.6"
  },
  "orig_nbformat": 2,
  "kernelspec": {
   "name": "python386jvsc74a57bd0082e9a3bcad0a290d0001e938aa60b99250c6c2ef33a923c00b70f9826caf4b7",
   "display_name": "Python 3.8.6 64-bit"
  },
  "metadata": {
   "interpreter": {
    "hash": "082e9a3bcad0a290d0001e938aa60b99250c6c2ef33a923c00b70f9826caf4b7"
   }
  }
 },
 "nbformat": 4,
 "nbformat_minor": 2,
 "cells": [
  {
   "cell_type": "code",
   "execution_count": 6,
   "metadata": {},
   "outputs": [
    {
     "output_type": "stream",
     "name": "stdout",
     "text": [
      "                       STATES        Capital  AREA(km2)  POPULATION\n0                  Abia State        Umuahia       6352     5847855\n1               Adamawa State           Yola       5465     5862214\n2             Akwa Ibom State            Uyo       4782      695124\n3               Anambra State           Awka       2458    69873522\n4                Bauchi State         Bauchi       1457     2658496\n5               Bayelsa State        Yenagoa       2564    26589965\n6                 Benue State        Makurdi       5698      256863\n7                 Borno State      Maiduguri       5789     2654789\n8           Cross River State        Calabar       4478      569874\n9                 Delta State          Asaba       5475     5445454\n10               Ebonyi State      Abakaliki       4782       24545\n11                  Edo State     Benin City       2458      554574\n12                Ekiti State      Ado-Ekiti       1457       23231\n13                Enugu State          Enugu       2564       12124\n14  Federal Capital Territory          Abuja       5698       56432\n15                Gombe State          Gombe       5789     5477214\n16                  Imo State         Owerri       4478      697634\n17               Jigawa State          Dutse       2634     2145769\n18               Kaduna State         Kaduna       4257    98756245\n19                 Kano State           Kano       2654     2645785\n20              Katsina State        Katsina       6394     4758965\n21                Kebbi State   Birnin Kebbi       4587      447856\n22                 Kogi State         Lokoja       2569      758542\n23                Kwara State         Ilorin       2456      148796\n24                Lagos State          Ikeja       2564      586963\n25             Nasarawa State          Lafia       5896       47585\n26                Niger State          Minna       2369     2589642\n27                 Ogun State       Abeokuta       2658      458542\n28                 Ondo State          Akure       4785       36987\n29                 Osun State        Oshogbo       2693     4258269\n30                  Oyo State         Ibadan       8965      425841\n31              Plateau State            Jos       8795      258963\n32               Rivers State  Port Harcourt       7485      256972\n33               Sokoto State         Sokoto       8685       58262\n34               Taraba State        Jalingo       3654     2369587\n35                 Yobe State       Damaturu       7589     4256954\n36              Zamfara State          Gusau       4856     2675841\n"
     ]
    }
   ],
   "source": [
    "import pandas\n",
    "import pandas as pd\n",
    "csv_df=pd.read_csv(\"/Users/salami/Desktop/c/Sensor2021.csv\")\n",
    "print(csv_df)"
   ]
  },
  {
   "cell_type": "code",
   "execution_count": 7,
   "metadata": {},
   "outputs": [
    {
     "output_type": "execute_result",
     "data": {
      "text/plain": [
       "         AREA(km2)    POPULATION\n",
       "count    37.000000  3.700000e+01\n",
       "mean   4548.351351  6.898440e+06\n",
       "std    2085.358645  1.959097e+07\n",
       "min    1457.000000  1.212400e+04\n",
       "25%    2569.000000  2.569720e+05\n",
       "50%    4587.000000  6.976340e+05\n",
       "75%    5789.000000  4.256954e+06\n",
       "max    8965.000000  9.875624e+07"
      ],
      "text/html": "<div>\n<style scoped>\n    .dataframe tbody tr th:only-of-type {\n        vertical-align: middle;\n    }\n\n    .dataframe tbody tr th {\n        vertical-align: top;\n    }\n\n    .dataframe thead th {\n        text-align: right;\n    }\n</style>\n<table border=\"1\" class=\"dataframe\">\n  <thead>\n    <tr style=\"text-align: right;\">\n      <th></th>\n      <th>AREA(km2)</th>\n      <th>POPULATION</th>\n    </tr>\n  </thead>\n  <tbody>\n    <tr>\n      <th>count</th>\n      <td>37.000000</td>\n      <td>3.700000e+01</td>\n    </tr>\n    <tr>\n      <th>mean</th>\n      <td>4548.351351</td>\n      <td>6.898440e+06</td>\n    </tr>\n    <tr>\n      <th>std</th>\n      <td>2085.358645</td>\n      <td>1.959097e+07</td>\n    </tr>\n    <tr>\n      <th>min</th>\n      <td>1457.000000</td>\n      <td>1.212400e+04</td>\n    </tr>\n    <tr>\n      <th>25%</th>\n      <td>2569.000000</td>\n      <td>2.569720e+05</td>\n    </tr>\n    <tr>\n      <th>50%</th>\n      <td>4587.000000</td>\n      <td>6.976340e+05</td>\n    </tr>\n    <tr>\n      <th>75%</th>\n      <td>5789.000000</td>\n      <td>4.256954e+06</td>\n    </tr>\n    <tr>\n      <th>max</th>\n      <td>8965.000000</td>\n      <td>9.875624e+07</td>\n    </tr>\n  </tbody>\n</table>\n</div>"
     },
     "metadata": {},
     "execution_count": 7
    }
   ],
   "source": [
    "csv_df.describe()"
   ]
  },
  {
   "cell_type": "code",
   "execution_count": 8,
   "metadata": {},
   "outputs": [
    {
     "output_type": "execute_result",
     "data": {
      "text/plain": [
       "Index(['STATES', 'Capital', 'AREA(km2)', 'POPULATION'], dtype='object')"
      ]
     },
     "metadata": {},
     "execution_count": 8
    }
   ],
   "source": [
    "csv_df.columns"
   ]
  },
  {
   "cell_type": "code",
   "execution_count": 9,
   "metadata": {},
   "outputs": [
    {
     "output_type": "stream",
     "name": "stdout",
     "text": [
      "<class 'pandas.core.frame.DataFrame'>\nRangeIndex: 37 entries, 0 to 36\nData columns (total 4 columns):\n #   Column      Non-Null Count  Dtype \n---  ------      --------------  ----- \n 0   STATES      37 non-null     object\n 1   Capital     37 non-null     object\n 2   AREA(km2)   37 non-null     int64 \n 3   POPULATION  37 non-null     int64 \ndtypes: int64(2), object(2)\nmemory usage: 1.3+ KB\n"
     ]
    }
   ],
   "source": [
    "csv_df.info()"
   ]
  },
  {
   "cell_type": "code",
   "execution_count": 14,
   "metadata": {},
   "outputs": [
    {
     "output_type": "stream",
     "name": "stdout",
     "text": [
      "0                    Abia State\n1                 Adamawa State\n2               Akwa Ibom State\n3                 Anambra State\n4                  Bauchi State\n5                 Bayelsa State\n6                   Benue State\n7                   Borno State\n8             Cross River State\n9                   Delta State\n10                 Ebonyi State\n11                    Edo State\n12                  Ekiti State\n13                  Enugu State\n14    Federal Capital Territory\n15                  Gombe State\n16                    Imo State\n17                 Jigawa State\n18                 Kaduna State\n19                   Kano State\n20                Katsina State\n21                  Kebbi State\n22                   Kogi State\n23                  Kwara State\n24                  Lagos State\n25               Nasarawa State\n26                  Niger State\n27                   Ogun State\n28                   Ondo State\n29                   Osun State\n30                    Oyo State\n31                Plateau State\n32                 Rivers State\n33                 Sokoto State\n34                 Taraba State\n35                   Yobe State\n36                Zamfara State\nName: STATES, dtype: object\n"
     ]
    }
   ],
   "source": [
    "print(csv_df['STATES'])"
   ]
  },
  {
   "cell_type": "code",
   "execution_count": 15,
   "metadata": {},
   "outputs": [
    {
     "output_type": "stream",
     "name": "stdout",
     "text": [
      "                       STATES\n0                  Abia State\n1               Adamawa State\n2             Akwa Ibom State\n3               Anambra State\n4                Bauchi State\n5               Bayelsa State\n6                 Benue State\n7                 Borno State\n8           Cross River State\n9                 Delta State\n10               Ebonyi State\n11                  Edo State\n12                Ekiti State\n13                Enugu State\n14  Federal Capital Territory\n15                Gombe State\n16                  Imo State\n17               Jigawa State\n18               Kaduna State\n19                 Kano State\n20              Katsina State\n21                Kebbi State\n22                 Kogi State\n23                Kwara State\n24                Lagos State\n25             Nasarawa State\n26                Niger State\n27                 Ogun State\n28                 Ondo State\n29                 Osun State\n30                  Oyo State\n31              Plateau State\n32               Rivers State\n33               Sokoto State\n34               Taraba State\n35                 Yobe State\n36              Zamfara State\n"
     ]
    }
   ],
   "source": [
    "print(csv_df[['STATES']])"
   ]
  },
  {
   "cell_type": "code",
   "execution_count": 16,
   "metadata": {},
   "outputs": [
    {
     "output_type": "stream",
     "name": "stdout",
     "text": [
      "                       STATES  POPULATION\n0                  Abia State     5847855\n1               Adamawa State     5862214\n2             Akwa Ibom State      695124\n3               Anambra State    69873522\n4                Bauchi State     2658496\n5               Bayelsa State    26589965\n6                 Benue State      256863\n7                 Borno State     2654789\n8           Cross River State      569874\n9                 Delta State     5445454\n10               Ebonyi State       24545\n11                  Edo State      554574\n12                Ekiti State       23231\n13                Enugu State       12124\n14  Federal Capital Territory       56432\n15                Gombe State     5477214\n16                  Imo State      697634\n17               Jigawa State     2145769\n18               Kaduna State    98756245\n19                 Kano State     2645785\n20              Katsina State     4758965\n21                Kebbi State      447856\n22                 Kogi State      758542\n23                Kwara State      148796\n24                Lagos State      586963\n25             Nasarawa State       47585\n26                Niger State     2589642\n27                 Ogun State      458542\n28                 Ondo State       36987\n29                 Osun State     4258269\n30                  Oyo State      425841\n31              Plateau State      258963\n32               Rivers State      256972\n33               Sokoto State       58262\n34               Taraba State     2369587\n35                 Yobe State     4256954\n36              Zamfara State     2675841\n"
     ]
    }
   ],
   "source": [
    "print(csv_df[['STATES','POPULATION']])"
   ]
  },
  {
   "cell_type": "code",
   "execution_count": 17,
   "metadata": {},
   "outputs": [
    {
     "output_type": "stream",
     "name": "stdout",
     "text": [
      "          STATES  Capital  AREA(km2)  POPULATION\n0     Abia State  Umuahia       6352     5847855\n1  Adamawa State     Yola       5465     5862214 \n\n"
     ]
    }
   ],
   "source": [
    "print(csv_df[0:2], '\\n' )"
   ]
  },
  {
   "cell_type": "code",
   "execution_count": 18,
   "metadata": {},
   "outputs": [
    {
     "output_type": "stream",
     "name": "stdout",
     "text": [
      "              STATES    Capital  AREA(km2)  POPULATION\n4       Bauchi State     Bauchi       1457     2658496\n5      Bayelsa State    Yenagoa       2564    26589965\n6        Benue State    Makurdi       5698      256863\n7        Borno State  Maiduguri       5789     2654789\n8  Cross River State    Calabar       4478      569874 \n\n"
     ]
    }
   ],
   "source": [
    "print(csv_df[4:9],\"\\n\")"
   ]
  },
  {
   "cell_type": "code",
   "execution_count": 20,
   "metadata": {},
   "outputs": [
    {
     "output_type": "stream",
     "name": "stdout",
     "text": [
      "          STATES Capital  AREA(km2)  POPULATION\n3  Anambra State    Awka       2458    69873522\n4   Bauchi State  Bauchi       1457     2658496\n"
     ]
    }
   ],
   "source": [
    "print(csv_df.iloc[3:5])\n"
   ]
  },
  {
   "cell_type": "code",
   "execution_count": 23,
   "metadata": {},
   "outputs": [
    {
     "output_type": "stream",
     "name": "stdout",
     "text": [
      "STATES        Akwa Ibom State\nCapital                   Uyo\nAREA(km2)                4782\nPOPULATION             695124\nName: 2, dtype: object\n"
     ]
    }
   ],
   "source": []
  },
  {
   "cell_type": "code",
   "execution_count": 21,
   "metadata": {},
   "outputs": [
    {
     "output_type": "stream",
     "name": "stdout",
     "text": [
      "                       STATES        Capital  AREA(km2)\n0                  Abia State        Umuahia       6352\n1               Adamawa State           Yola       5465\n2             Akwa Ibom State            Uyo       4782\n3               Anambra State           Awka       2458\n4                Bauchi State         Bauchi       1457\n5               Bayelsa State        Yenagoa       2564\n6                 Benue State        Makurdi       5698\n7                 Borno State      Maiduguri       5789\n8           Cross River State        Calabar       4478\n9                 Delta State          Asaba       5475\n10               Ebonyi State      Abakaliki       4782\n11                  Edo State     Benin City       2458\n12                Ekiti State      Ado-Ekiti       1457\n13                Enugu State          Enugu       2564\n14  Federal Capital Territory          Abuja       5698\n15                Gombe State          Gombe       5789\n16                  Imo State         Owerri       4478\n17               Jigawa State          Dutse       2634\n18               Kaduna State         Kaduna       4257\n19                 Kano State           Kano       2654\n20              Katsina State        Katsina       6394\n21                Kebbi State   Birnin Kebbi       4587\n22                 Kogi State         Lokoja       2569\n23                Kwara State         Ilorin       2456\n24                Lagos State          Ikeja       2564\n25             Nasarawa State          Lafia       5896\n26                Niger State          Minna       2369\n27                 Ogun State       Abeokuta       2658\n28                 Ondo State          Akure       4785\n29                 Osun State        Oshogbo       2693\n30                  Oyo State         Ibadan       8965\n31              Plateau State            Jos       8795\n32               Rivers State  Port Harcourt       7485\n33               Sokoto State         Sokoto       8685\n34               Taraba State        Jalingo       3654\n35                 Yobe State       Damaturu       7589\n36              Zamfara State          Gusau       4856\n"
     ]
    }
   ],
   "source": [
    "df = csv_df.drop(['POPULATION'],axis = 1)\n",
    "print(df)"
   ]
  },
  {
   "cell_type": "code",
   "execution_count": 22,
   "metadata": {},
   "outputs": [
    {
     "output_type": "stream",
     "name": "stdout",
     "text": [
      "                       STATES        Capital  AREA(km2)  POPULATION\n0                  Abia State        Umuahia       6352     5847855\n1               Adamawa State           Yola       5465     5862214\n2             Akwa Ibom State            Uyo       4782      695124\n3               Anambra State           Awka       2458    69873522\n4                Bauchi State         Bauchi       1457     2658496\n5               Bayelsa State        Yenagoa       2564    26589965\n6                 Benue State        Makurdi       5698      256863\n7                 Borno State      Maiduguri       5789     2654789\n8           Cross River State        Calabar       4478      569874\n9                 Delta State          Asaba       5475     5445454\n10               Ebonyi State      Abakaliki       4782       24545\n11                  Edo State     Benin City       2458      554574\n12                Ekiti State      Ado-Ekiti       1457       23231\n13                Enugu State          Enugu       2564       12124\n14  Federal Capital Territory          Abuja       5698       56432\n15                Gombe State          Gombe       5789     5477214\n16                  Imo State         Owerri       4478      697634\n17               Jigawa State          Dutse       2634     2145769\n18               Kaduna State         Kaduna       4257    98756245\n19                 Kano State           Kano       2654     2645785\n20              Katsina State        Katsina       6394     4758965\n21                Kebbi State   Birnin Kebbi       4587      447856\n22                 Kogi State         Lokoja       2569      758542\n23                Kwara State         Ilorin       2456      148796\n24                Lagos State          Ikeja       2564      586963\n25             Nasarawa State          Lafia       5896       47585\n26                Niger State          Minna       2369     2589642\n27                 Ogun State       Abeokuta       2658      458542\n28                 Ondo State          Akure       4785       36987\n29                 Osun State        Oshogbo       2693     4258269\n30                  Oyo State         Ibadan       8965      425841\n31              Plateau State            Jos       8795      258963\n32               Rivers State  Port Harcourt       7485      256972\n33               Sokoto State         Sokoto       8685       58262\n34               Taraba State        Jalingo       3654     2369587\n35                 Yobe State       Damaturu       7589     4256954\n36              Zamfara State          Gusau       4856     2675841\n"
     ]
    }
   ],
   "source": [
    "df=csv_df.append([\"POPULATION\"])\n",
    "print(csv_df)"
   ]
  },
  {
   "cell_type": "code",
   "execution_count": 24,
   "metadata": {},
   "outputs": [
    {
     "output_type": "execute_result",
     "data": {
      "text/plain": [
       "             0  AREA(km2)        Capital  POPULATION  \\\n",
       "36         NaN     4856.0          Gusau   2675841.0   \n",
       "35         NaN     7589.0       Damaturu   4256954.0   \n",
       "34         NaN     3654.0        Jalingo   2369587.0   \n",
       "33         NaN     8685.0         Sokoto     58262.0   \n",
       "32         NaN     7485.0  Port Harcourt    256972.0   \n",
       "31         NaN     8795.0            Jos    258963.0   \n",
       "30         NaN     8965.0         Ibadan    425841.0   \n",
       "29         NaN     2693.0        Oshogbo   4258269.0   \n",
       "28         NaN     4785.0          Akure     36987.0   \n",
       "27         NaN     2658.0       Abeokuta    458542.0   \n",
       "26         NaN     2369.0          Minna   2589642.0   \n",
       "25         NaN     5896.0          Lafia     47585.0   \n",
       "24         NaN     2564.0          Ikeja    586963.0   \n",
       "23         NaN     2456.0         Ilorin    148796.0   \n",
       "22         NaN     2569.0         Lokoja    758542.0   \n",
       "21         NaN     4587.0   Birnin Kebbi    447856.0   \n",
       "20         NaN     6394.0        Katsina   4758965.0   \n",
       "19         NaN     2654.0           Kano   2645785.0   \n",
       "18         NaN     4257.0         Kaduna  98756245.0   \n",
       "17         NaN     2634.0          Dutse   2145769.0   \n",
       "16         NaN     4478.0         Owerri    697634.0   \n",
       "15         NaN     5789.0          Gombe   5477214.0   \n",
       "14         NaN     5698.0          Abuja     56432.0   \n",
       "13         NaN     2564.0          Enugu     12124.0   \n",
       "12         NaN     1457.0      Ado-Ekiti     23231.0   \n",
       "11         NaN     2458.0     Benin City    554574.0   \n",
       "10         NaN     4782.0      Abakaliki     24545.0   \n",
       "9          NaN     5475.0          Asaba   5445454.0   \n",
       "8          NaN     4478.0        Calabar    569874.0   \n",
       "7          NaN     5789.0      Maiduguri   2654789.0   \n",
       "6          NaN     5698.0        Makurdi    256863.0   \n",
       "5          NaN     2564.0        Yenagoa  26589965.0   \n",
       "4          NaN     1457.0         Bauchi   2658496.0   \n",
       "3          NaN     2458.0           Awka  69873522.0   \n",
       "2          NaN     4782.0            Uyo    695124.0   \n",
       "1          NaN     5465.0           Yola   5862214.0   \n",
       "0          NaN     6352.0        Umuahia   5847855.0   \n",
       "0   POPULATION        NaN            NaN         NaN   \n",
       "\n",
       "                       STATES  \n",
       "36              Zamfara State  \n",
       "35                 Yobe State  \n",
       "34               Taraba State  \n",
       "33               Sokoto State  \n",
       "32               Rivers State  \n",
       "31              Plateau State  \n",
       "30                  Oyo State  \n",
       "29                 Osun State  \n",
       "28                 Ondo State  \n",
       "27                 Ogun State  \n",
       "26                Niger State  \n",
       "25             Nasarawa State  \n",
       "24                Lagos State  \n",
       "23                Kwara State  \n",
       "22                 Kogi State  \n",
       "21                Kebbi State  \n",
       "20              Katsina State  \n",
       "19                 Kano State  \n",
       "18               Kaduna State  \n",
       "17               Jigawa State  \n",
       "16                  Imo State  \n",
       "15                Gombe State  \n",
       "14  Federal Capital Territory  \n",
       "13                Enugu State  \n",
       "12                Ekiti State  \n",
       "11                  Edo State  \n",
       "10               Ebonyi State  \n",
       "9                 Delta State  \n",
       "8           Cross River State  \n",
       "7                 Borno State  \n",
       "6                 Benue State  \n",
       "5               Bayelsa State  \n",
       "4                Bauchi State  \n",
       "3               Anambra State  \n",
       "2             Akwa Ibom State  \n",
       "1               Adamawa State  \n",
       "0                  Abia State  \n",
       "0                         NaN  "
      ],
      "text/html": "<div>\n<style scoped>\n    .dataframe tbody tr th:only-of-type {\n        vertical-align: middle;\n    }\n\n    .dataframe tbody tr th {\n        vertical-align: top;\n    }\n\n    .dataframe thead th {\n        text-align: right;\n    }\n</style>\n<table border=\"1\" class=\"dataframe\">\n  <thead>\n    <tr style=\"text-align: right;\">\n      <th></th>\n      <th>0</th>\n      <th>AREA(km2)</th>\n      <th>Capital</th>\n      <th>POPULATION</th>\n      <th>STATES</th>\n    </tr>\n  </thead>\n  <tbody>\n    <tr>\n      <th>36</th>\n      <td>NaN</td>\n      <td>4856.0</td>\n      <td>Gusau</td>\n      <td>2675841.0</td>\n      <td>Zamfara State</td>\n    </tr>\n    <tr>\n      <th>35</th>\n      <td>NaN</td>\n      <td>7589.0</td>\n      <td>Damaturu</td>\n      <td>4256954.0</td>\n      <td>Yobe State</td>\n    </tr>\n    <tr>\n      <th>34</th>\n      <td>NaN</td>\n      <td>3654.0</td>\n      <td>Jalingo</td>\n      <td>2369587.0</td>\n      <td>Taraba State</td>\n    </tr>\n    <tr>\n      <th>33</th>\n      <td>NaN</td>\n      <td>8685.0</td>\n      <td>Sokoto</td>\n      <td>58262.0</td>\n      <td>Sokoto State</td>\n    </tr>\n    <tr>\n      <th>32</th>\n      <td>NaN</td>\n      <td>7485.0</td>\n      <td>Port Harcourt</td>\n      <td>256972.0</td>\n      <td>Rivers State</td>\n    </tr>\n    <tr>\n      <th>31</th>\n      <td>NaN</td>\n      <td>8795.0</td>\n      <td>Jos</td>\n      <td>258963.0</td>\n      <td>Plateau State</td>\n    </tr>\n    <tr>\n      <th>30</th>\n      <td>NaN</td>\n      <td>8965.0</td>\n      <td>Ibadan</td>\n      <td>425841.0</td>\n      <td>Oyo State</td>\n    </tr>\n    <tr>\n      <th>29</th>\n      <td>NaN</td>\n      <td>2693.0</td>\n      <td>Oshogbo</td>\n      <td>4258269.0</td>\n      <td>Osun State</td>\n    </tr>\n    <tr>\n      <th>28</th>\n      <td>NaN</td>\n      <td>4785.0</td>\n      <td>Akure</td>\n      <td>36987.0</td>\n      <td>Ondo State</td>\n    </tr>\n    <tr>\n      <th>27</th>\n      <td>NaN</td>\n      <td>2658.0</td>\n      <td>Abeokuta</td>\n      <td>458542.0</td>\n      <td>Ogun State</td>\n    </tr>\n    <tr>\n      <th>26</th>\n      <td>NaN</td>\n      <td>2369.0</td>\n      <td>Minna</td>\n      <td>2589642.0</td>\n      <td>Niger State</td>\n    </tr>\n    <tr>\n      <th>25</th>\n      <td>NaN</td>\n      <td>5896.0</td>\n      <td>Lafia</td>\n      <td>47585.0</td>\n      <td>Nasarawa State</td>\n    </tr>\n    <tr>\n      <th>24</th>\n      <td>NaN</td>\n      <td>2564.0</td>\n      <td>Ikeja</td>\n      <td>586963.0</td>\n      <td>Lagos State</td>\n    </tr>\n    <tr>\n      <th>23</th>\n      <td>NaN</td>\n      <td>2456.0</td>\n      <td>Ilorin</td>\n      <td>148796.0</td>\n      <td>Kwara State</td>\n    </tr>\n    <tr>\n      <th>22</th>\n      <td>NaN</td>\n      <td>2569.0</td>\n      <td>Lokoja</td>\n      <td>758542.0</td>\n      <td>Kogi State</td>\n    </tr>\n    <tr>\n      <th>21</th>\n      <td>NaN</td>\n      <td>4587.0</td>\n      <td>Birnin Kebbi</td>\n      <td>447856.0</td>\n      <td>Kebbi State</td>\n    </tr>\n    <tr>\n      <th>20</th>\n      <td>NaN</td>\n      <td>6394.0</td>\n      <td>Katsina</td>\n      <td>4758965.0</td>\n      <td>Katsina State</td>\n    </tr>\n    <tr>\n      <th>19</th>\n      <td>NaN</td>\n      <td>2654.0</td>\n      <td>Kano</td>\n      <td>2645785.0</td>\n      <td>Kano State</td>\n    </tr>\n    <tr>\n      <th>18</th>\n      <td>NaN</td>\n      <td>4257.0</td>\n      <td>Kaduna</td>\n      <td>98756245.0</td>\n      <td>Kaduna State</td>\n    </tr>\n    <tr>\n      <th>17</th>\n      <td>NaN</td>\n      <td>2634.0</td>\n      <td>Dutse</td>\n      <td>2145769.0</td>\n      <td>Jigawa State</td>\n    </tr>\n    <tr>\n      <th>16</th>\n      <td>NaN</td>\n      <td>4478.0</td>\n      <td>Owerri</td>\n      <td>697634.0</td>\n      <td>Imo State</td>\n    </tr>\n    <tr>\n      <th>15</th>\n      <td>NaN</td>\n      <td>5789.0</td>\n      <td>Gombe</td>\n      <td>5477214.0</td>\n      <td>Gombe State</td>\n    </tr>\n    <tr>\n      <th>14</th>\n      <td>NaN</td>\n      <td>5698.0</td>\n      <td>Abuja</td>\n      <td>56432.0</td>\n      <td>Federal Capital Territory</td>\n    </tr>\n    <tr>\n      <th>13</th>\n      <td>NaN</td>\n      <td>2564.0</td>\n      <td>Enugu</td>\n      <td>12124.0</td>\n      <td>Enugu State</td>\n    </tr>\n    <tr>\n      <th>12</th>\n      <td>NaN</td>\n      <td>1457.0</td>\n      <td>Ado-Ekiti</td>\n      <td>23231.0</td>\n      <td>Ekiti State</td>\n    </tr>\n    <tr>\n      <th>11</th>\n      <td>NaN</td>\n      <td>2458.0</td>\n      <td>Benin City</td>\n      <td>554574.0</td>\n      <td>Edo State</td>\n    </tr>\n    <tr>\n      <th>10</th>\n      <td>NaN</td>\n      <td>4782.0</td>\n      <td>Abakaliki</td>\n      <td>24545.0</td>\n      <td>Ebonyi State</td>\n    </tr>\n    <tr>\n      <th>9</th>\n      <td>NaN</td>\n      <td>5475.0</td>\n      <td>Asaba</td>\n      <td>5445454.0</td>\n      <td>Delta State</td>\n    </tr>\n    <tr>\n      <th>8</th>\n      <td>NaN</td>\n      <td>4478.0</td>\n      <td>Calabar</td>\n      <td>569874.0</td>\n      <td>Cross River State</td>\n    </tr>\n    <tr>\n      <th>7</th>\n      <td>NaN</td>\n      <td>5789.0</td>\n      <td>Maiduguri</td>\n      <td>2654789.0</td>\n      <td>Borno State</td>\n    </tr>\n    <tr>\n      <th>6</th>\n      <td>NaN</td>\n      <td>5698.0</td>\n      <td>Makurdi</td>\n      <td>256863.0</td>\n      <td>Benue State</td>\n    </tr>\n    <tr>\n      <th>5</th>\n      <td>NaN</td>\n      <td>2564.0</td>\n      <td>Yenagoa</td>\n      <td>26589965.0</td>\n      <td>Bayelsa State</td>\n    </tr>\n    <tr>\n      <th>4</th>\n      <td>NaN</td>\n      <td>1457.0</td>\n      <td>Bauchi</td>\n      <td>2658496.0</td>\n      <td>Bauchi State</td>\n    </tr>\n    <tr>\n      <th>3</th>\n      <td>NaN</td>\n      <td>2458.0</td>\n      <td>Awka</td>\n      <td>69873522.0</td>\n      <td>Anambra State</td>\n    </tr>\n    <tr>\n      <th>2</th>\n      <td>NaN</td>\n      <td>4782.0</td>\n      <td>Uyo</td>\n      <td>695124.0</td>\n      <td>Akwa Ibom State</td>\n    </tr>\n    <tr>\n      <th>1</th>\n      <td>NaN</td>\n      <td>5465.0</td>\n      <td>Yola</td>\n      <td>5862214.0</td>\n      <td>Adamawa State</td>\n    </tr>\n    <tr>\n      <th>0</th>\n      <td>NaN</td>\n      <td>6352.0</td>\n      <td>Umuahia</td>\n      <td>5847855.0</td>\n      <td>Abia State</td>\n    </tr>\n    <tr>\n      <th>0</th>\n      <td>POPULATION</td>\n      <td>NaN</td>\n      <td>NaN</td>\n      <td>NaN</td>\n      <td>NaN</td>\n    </tr>\n  </tbody>\n</table>\n</div>"
     },
     "metadata": {},
     "execution_count": 24
    }
   ],
   "source": [
    "df.sort_index(inplace=True,ascending=False)\n",
    "df"
   ]
  },
  {
   "cell_type": "code",
   "execution_count": null,
   "metadata": {},
   "outputs": [],
   "source": []
  }
 ]
}